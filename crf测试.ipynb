{
 "cells": [
  {
   "cell_type": "markdown",
   "metadata": {},
   "source": [
    "# crf模型使用基础 "
   ]
  },
  {
   "cell_type": "code",
   "execution_count": 138,
   "metadata": {},
   "outputs": [
    {
     "name": "stdout",
     "output_type": "stream",
     "text": [
      "Name: TorchCRF\n",
      "Version: 1.1.0\n",
      "Summary: An Implementation of Conditional Random Fields in pytorch\n",
      "Home-page: https://github.com/s14t284/TorchCRF\n",
      "Author: Ryuya Ikeda\n",
      "Author-email: rikeda71@gmail.com\n",
      "License: MIT\n",
      "Location: c:\\python37\\lib\\site-packages\n",
      "Requires: torch, numpy\n",
      "Required-by: \n"
     ]
    }
   ],
   "source": [
    "!pip show torchcrf"
   ]
  },
  {
   "cell_type": "code",
   "execution_count": 55,
   "metadata": {},
   "outputs": [
    {
     "name": "stdout",
     "output_type": "stream",
     "text": [
      "torch.Size([1, 3, 5])\n",
      "tensor([[[0.5988, 0.6661, 0.7610, 0.2041, 0.1719],\n",
      "         [0.9909, 0.3134, 0.3760, 0.2873, 0.7383],\n",
      "         [0.9339, 0.2130, 0.5103, 0.0713, 0.7942]]])\n",
      "tensor([-3.4701], grad_fn=<SubBackward0>)\n",
      "[[2, 0]]\n"
     ]
    }
   ],
   "source": [
    "import torch\n",
    "# 安装 torchcrf   pip install pytorch-crf -i https://pypi.tuna.tsinghua.edu.cn/simple/\n",
    "# pip list 显示的时候是 TorchCRF 然而导入的时候是用 import torchcrf 或者 from torchcrf import CRF\n",
    "from torchcrf import CRF\n",
    "\n",
    "num_tags = 5  # 实体命名识别 每个汉字可以预测多少中类型 \n",
    "# model = CRF(num_tags,batch_first=True)\n",
    "model = CRF(num_tags)\n",
    "seq_length = 3  # 句子长度（一个句子有三个单词）\n",
    "batch_size = 1  # batch大小 一共输入几个句子 在这里是一个 句子\n",
    "# hidden= torch.randn(batch_size,seq_length,num_tags) # 输入的是 batch：几个句子 ，seq_length：每个句子的长度 \n",
    "hidden= torch.rand(batch_size,seq_length,num_tags) # 输入的是 batch：几个句子 ，seq_length：每个句子的长度 \n",
    "print(hidden.shape)# torch.Size([1, 3, 5])\n",
    "# 表示：一个句子 句子长度是3 每个单词的维度是 5 ，为什么是5呢？因为是为每个单词打标签，一共有五个标签 所以\n",
    "print(hidden)\n",
    "\n",
    "mask = torch.tensor([[1,1,0]], dtype=torch.uint8) # mask的意思是 有的汉字的向量 不进行标签的预测  \n",
    "# mask的形状是:[batch，seq_length]\n",
    "# 这句话由于torchcrf版本不同 进而 函数设置不同 batch_first=True 假设没有这句话  那么输入模型的第一个句子序列的 mask都是true，假设有这句话 就没事 ，mask是正常的\n",
    "# mask的作用是：因为是中文的句子 那么每句话都要padding 一定的长度 所以 告诉模型那些是padding的 \n",
    "\n",
    "tags = torch.tensor([[0,2,3]], dtype=torch.long)  #(batch_size, seq_length)\n",
    "\n",
    "loss=model(hidden,tags,mask)  # 计算对数似然（用于向前） loss \n",
    "print(loss)\n",
    "a=model.viterbi_decode(hidden,mask)  # 或者用 model.decode(hidden,mask)\n",
    "print(a)"
   ]
  },
  {
   "cell_type": "code",
   "execution_count": 27,
   "metadata": {
    "collapsed": true,
    "jupyter": {
     "outputs_hidden": true,
     "source_hidden": true
    }
   },
   "outputs": [
    {
     "name": "stdout",
     "output_type": "stream",
     "text": [
      "tensor([[[ 0.4690, -1.0011,  1.9207, -1.3772,  1.4006],\n",
      "         [ 0.9187,  0.3772,  1.9090,  2.1411,  1.2858],\n",
      "         [ 0.0591, -1.3176, -2.2238,  0.6061,  0.4469]],\n",
      "\n",
      "        [[-0.7444,  1.1173,  0.1946, -0.2796, -0.0560],\n",
      "         [ 0.4838,  2.4101, -0.5735,  0.2289,  0.6405],\n",
      "         [-0.8739, -0.4133,  2.6319, -1.0350, -2.5549]]])\n"
     ]
    },
    {
     "data": {
      "text/plain": [
       "[[2, 3, 3], [1, 1]]"
      ]
     },
     "execution_count": 27,
     "metadata": {},
     "output_type": "execute_result"
    }
   ],
   "source": [
    "# pip install pytorch-crf -i https://pypi.tuna.tsinghua.edu.cn/simple/\n",
    "import torch\n",
    "from torchcrf import CRF\n",
    " \n",
    "num_tags = 5  # number of tags is 5\n",
    "model = CRF(num_tags)\n",
    " \n",
    "seq_length = 3  # maximum sequence length in a batch\n",
    "batch_size = 2  # number of samples in the batch\n",
    " \n",
    "hidden= torch.randn(batch_size,seq_length,num_tags)\n",
    "print(hidden)\n",
    " \n",
    "mask = torch.tensor([[1, 1,1], [1, 1,0]], dtype=torch.uint8)\n",
    " \n",
    "tags = torch.tensor([[0,2,3], [1,4,1]], dtype=torch.long)  #(batch_size, seq_length)\n",
    " \n",
    "model(hidden,tags,mask)  # 计算对数似然（用于向前）\n",
    " \n",
    "model.viterbi_decode(hidden,mask) # 解码（预测序列标签）\n",
    "# crf.viterbi_decode(hidden,mask) # 解码（预测序列标签）"
   ]
  },
  {
   "cell_type": "code",
   "execution_count": 9,
   "metadata": {
    "collapsed": true,
    "jupyter": {
     "outputs_hidden": true,
     "source_hidden": true
    }
   },
   "outputs": [
    {
     "name": "stdout",
     "output_type": "stream",
     "text": [
      "Package                         Version\n",
      "------------------------------- -----------\n",
      "absl-py                         0.11.0\n",
      "aiohttp                         3.7.4.post0\n",
      "altgraph                        0.17\n",
      "antlr4-python3-runtime          4.8\n",
      "anyio                           2.0.2\n",
      "argon2-cffi                     20.1.0\n",
      "ase                             3.20.1\n",
      "astor                           0.8.1\n",
      "astunparse                      1.6.3\n",
      "async-generator                 1.10\n",
      "async-timeout                   3.0.1\n",
      "attrs                           20.3.0\n",
      "axial-positional-embedding      0.2.1\n",
      "Babel                           2.9.0\n",
      "backcall                        0.2.0\n",
      "beautifulsoup4                  4.9.3\n",
      "bert4keras                      0.10.7\n",
      "biogeme                         3.2.6\n",
      "bleach                          3.2.1\n",
      "blis                            0.7.4\n",
      "bs4                             0.0.1\n",
      "cached-property                 1.5.2\n",
      "cachetools                      4.2.1\n",
      "catalogue                       2.0.1\n",
      "certifi                         2020.12.5\n",
      "cffi                            1.14.4\n",
      "chardet                         4.0.0\n",
      "click                           7.1.2\n",
      "cloudpickle                     1.6.0\n",
      "colorama                        0.4.4\n",
      "cycler                          0.10.0\n",
      "cymem                           2.0.5\n",
      "Cython                          0.29.14\n",
      "data                            0.4\n",
      "dataclasses                     0.6\n",
      "de-core-news-sm                 3.0.0\n",
      "decorator                       4.4.2\n",
      "defusedxml                      0.6.0\n",
      "editdistance                    0.5.3\n",
      "einops                          0.3.2\n",
      "en-core-web-sm                  3.0.0\n",
      "entrypoints                     0.3\n",
      "et-xmlfile                      1.1.0\n",
      "fairseq                         0.10.0\n",
      "fake-useragent                  0.1.11\n",
      "fastdtw                         0.3.4\n",
      "filelock                        3.0.12\n",
      "flatbuffers                     1.12\n",
      "fsspec                          2021.8.1\n",
      "funcsigs                        1.0.2\n",
      "future                          0.18.2\n",
      "gast                            0.3.3\n",
      "gensim                          3.8.3\n",
      "google-auth                     1.27.1\n",
      "google-auth-oauthlib            0.4.3\n",
      "google-pasta                    0.2.0\n",
      "googledrivedownloader           0.4\n",
      "grpcio                          1.32.0\n",
      "gym                             0.18.3\n",
      "h5py                            2.10.0\n",
      "hydra-core                      1.1.1\n",
      "idna                            2.10\n",
      "ijson                           3.1.4\n",
      "imbalanced-learn                0.8.0\n",
      "imblearn                        0.0\n",
      "importlib-metadata              3.3.0\n",
      "importlib-resources             5.2.2\n",
      "intel-openmp                    2021.4.0\n",
      "ipykernel                       5.4.2\n",
      "ipython                         7.19.0\n",
      "ipython-genutils                0.2.0\n",
      "ipywidgets                      7.6.2\n",
      "isodate                         0.6.0\n",
      "itchat                          1.2.32\n",
      "jedi                            0.18.0\n",
      "jieba                           0.42.1\n",
      "Jinja2                          2.11.2\n",
      "joblib                          1.0.0\n",
      "json5                           0.9.5\n",
      "jsonschema                      3.2.0\n",
      "jupyter                         1.0.0\n",
      "jupyter-client                  6.1.7\n",
      "jupyter-console                 6.2.0\n",
      "jupyter-core                    4.7.0\n",
      "jupyter-server                  1.1.3\n",
      "jupyterlab                      3.0.0\n",
      "jupyterlab-pygments             0.1.2\n",
      "jupyterlab-server               2.0.0\n",
      "jupyterlab-widgets              1.0.0\n",
      "Keras                           2.3.1\n",
      "Keras-Applications              1.0.8\n",
      "Keras-Preprocessing             1.1.2\n",
      "kiwisolver                      1.3.1\n",
      "lightgbm                        3.1.1\n",
      "llvmlite                        0.35.0\n",
      "local-attention                 1.4.3\n",
      "lxml                            4.6.3\n",
      "Markdown                        3.3.4\n",
      "MarkupSafe                      1.1.1\n",
      "matplotlib                      3.3.3\n",
      "mistune                         0.8.4\n",
      "multidict                       5.1.0\n",
      "murmurhash                      1.0.5\n",
      "mysql-connector-python          8.0.25\n",
      "nbclassic                       0.2.5\n",
      "nbclient                        0.5.1\n",
      "nbconvert                       6.0.7\n",
      "nbformat                        5.0.8\n",
      "nest-asyncio                    1.4.3\n",
      "networkx                        2.5\n",
      "nltk                            3.6.2\n",
      "node2vec                        0.4.3\n",
      "notebook                        6.1.6\n",
      "numba                           0.52.0\n",
      "numpy                           1.18.0\n",
      "oauthlib                        3.1.0\n",
      "omegaconf                       2.1.1\n",
      "OpenCC                          1.1.1\n",
      "opencv-python                   4.5.1.48\n",
      "openpyxl                        3.0.7\n",
      "opt-einsum                      3.3.0\n",
      "packaging                       20.8\n",
      "pandas                          1.1.5\n",
      "pandocfilters                   1.4.3\n",
      "parso                           0.8.1\n",
      "pathy                           0.4.0\n",
      "patsy                           0.5.1\n",
      "pefile                          2021.5.24\n",
      "pickleshare                     0.7.5\n",
      "Pillow                          8.0.1\n",
      "pip                             21.2.4\n",
      "pkgconfig                       1.5.4\n",
      "portalocker                     2.3.2\n",
      "preshed                         3.0.5\n",
      "prettytable                     2.2.0\n",
      "product-key-memory              0.1.10\n",
      "prometheus-client               0.9.0\n",
      "prompt-toolkit                  3.0.8\n",
      "protobuf                        3.15.4\n",
      "pyasn1                          0.4.8\n",
      "pyasn1-modules                  0.2.8\n",
      "pycparser                       2.20\n",
      "pydantic                        1.7.3\n",
      "pyDeprecate                     0.3.1\n",
      "pyemd                           0.5.1\n",
      "pygame                          2.0.1\n",
      "pyglet                          1.5.15\n",
      "Pygments                        2.7.3\n",
      "pyinstaller                     4.3\n",
      "pyinstaller-hooks-contrib       2021.1\n",
      "pymongo                         3.11.3\n",
      "PyMySQL                         1.0.2\n",
      "pyparsing                       2.4.7\n",
      "pypng                           0.0.20\n",
      "PyQRCode                        1.2.1\n",
      "pyrsistent                      0.17.3\n",
      "python-dateutil                 2.8.1\n",
      "pytorch-crf                     0.7.2\n",
      "pytorch-lightning               1.4.6\n",
      "pytz                            2020.5\n",
      "pywin32                         300\n",
      "pywin32-ctypes                  0.2.0\n",
      "pywinpty                        0.5.7\n",
      "PyYAML                          5.4.1\n",
      "pyzmq                           20.0.0\n",
      "qtconsole                       5.0.1\n",
      "QtPy                            1.9.0\n",
      "rdflib                          5.0.0\n",
      "regex                           2020.11.13\n",
      "requests                        2.25.1\n",
      "requests-oauthlib               1.3.0\n",
      "rsa                             4.7.2\n",
      "sacrebleu                       2.0.0\n",
      "sacremoses                      0.0.43\n",
      "scikit-learn                    0.24.0\n",
      "scipy                           1.4.1\n",
      "seaborn                         0.11.1\n",
      "selenium                        3.141.0\n",
      "Send2Trash                      1.5.0\n",
      "sentencepiece                   0.1.95\n",
      "setuptools                      57.4.0\n",
      "similarity-index-of-label-graph 2.0.1\n",
      "six                             1.15.0\n",
      "smart-open                      3.0.0\n",
      "sniffio                         1.2.0\n",
      "soupsieve                       2.2.1\n",
      "spacy                           3.0.3\n",
      "spacy-legacy                    3.0.1\n",
      "srsly                           2.4.0\n",
      "statsmodels                     0.12.2\n",
      "tabulate                        0.8.9\n",
      "tensorboard                     2.2.2\n",
      "tensorboard-plugin-wit          1.8.0\n",
      "tensorflow-estimator            2.2.0\n",
      "tensorflow-gpu                  2.2.0\n",
      "tensorflow-gpu-estimator        2.2.0\n",
      "termcolor                       1.1.0\n",
      "terminado                       0.9.1\n",
      "testpath                        0.4.4\n",
      "thinc                           8.0.1\n",
      "threadpoolctl                   2.1.0\n",
      "tokenizers                      0.10.1\n",
      "torch                           1.8.0+cu111\n",
      "torch-geometric                 1.6.1\n",
      "torch-scatter                   2.0.3\n",
      "torch-sparse                    0.5.1\n",
      "torchaudio                      0.8.0\n",
      "TorchCRF                        1.1.0\n",
      "torchkeras                      2.1.2\n",
      "torchmetrics                    0.5.1\n",
      "torchsummary                    1.5.1\n",
      "torchtext                       0.6.0\n",
      "torchvision                     0.9.0+cu111\n",
      "tornado                         6.1\n",
      "tqdm                            4.55.0\n",
      "traitlets                       5.0.5\n",
      "transformers                    4.3.3\n",
      "typer                           0.3.2\n",
      "typing-extensions               3.7.4.3\n",
      "Unidecode                       1.2.0\n",
      "urllib3                         1.26.2\n",
      "utils                           1.0.1\n",
      "wasabi                          0.8.2\n",
      "wcwidth                         0.2.5\n",
      "webencodings                    0.5.1\n",
      "Werkzeug                        1.0.1\n",
      "wheel                           0.36.2\n",
      "widgetsnbextension              3.5.1\n",
      "wordcloud                       1.8.1\n",
      "wrapt                           1.12.1\n",
      "wxpy                            0.3.9.8\n",
      "xgboost                         1.3.3\n",
      "xlrd                            1.2.0\n",
      "xlwt                            1.3.0\n",
      "yarl                            1.6.3\n",
      "zipp                            3.4.0\n"
     ]
    }
   ],
   "source": [
    "! pip list"
   ]
  },
  {
   "cell_type": "code",
   "execution_count": 20,
   "metadata": {
    "jupyter": {
     "source_hidden": true
    }
   },
   "outputs": [
    {
     "name": "stdout",
     "output_type": "stream",
     "text": [
      "tensor([[0, 2, 3],\n",
      "        [1, 4, 1]])\n"
     ]
    }
   ],
   "source": [
    "import torch\n",
    "# from TorchCRF import CRF \n",
    "from torchcrf import CRF\n",
    "\n",
    "batch_size=2\n",
    "sequence_size=3\n",
    "num_labels=5\n",
    "\n",
    "mask=torch.FloatTensor([[1,1,1],[1,1,0]])               #(batch_size. sequence_size)\n",
    "\n",
    "labels=torch.tensor([[0,2,3],[1,4,1]],dtype=torch.long) #(batch_size, sequence_size)\n",
    "print(labels)\n",
    "\n",
    "hidden=torch.randn((batch_size,sequence_size,num_labels),requires_grad=True)\n",
    "\n",
    "crf=CRF(num_labels)\n"
   ]
  },
  {
   "cell_type": "code",
   "execution_count": 25,
   "metadata": {
    "collapsed": true,
    "jupyter": {
     "outputs_hidden": true,
     "source_hidden": true
    }
   },
   "outputs": [
    {
     "data": {
      "text/plain": [
       "[[2]]"
      ]
     },
     "execution_count": 25,
     "metadata": {},
     "output_type": "execute_result"
    }
   ],
   "source": [
    "crf.viterbi_decode(hidden,mask) # 解码（预测序列标签）"
   ]
  }
 ],
 "metadata": {
  "kernelspec": {
   "display_name": "Python 3",
   "language": "python",
   "name": "python3"
  },
  "language_info": {
   "codemirror_mode": {
    "name": "ipython",
    "version": 3
   },
   "file_extension": ".py",
   "mimetype": "text/x-python",
   "name": "python",
   "nbconvert_exporter": "python",
   "pygments_lexer": "ipython3",
   "version": "3.7.0"
  }
 },
 "nbformat": 4,
 "nbformat_minor": 4
}
